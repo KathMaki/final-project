{
 "cells": [
  {
   "cell_type": "code",
   "execution_count": null,
   "metadata": {},
   "outputs": [],
   "source": []
  },
  {
   "cell_type": "code",
   "execution_count": null,
   "metadata": {},
   "outputs": [],
   "source": [
    "#These used to work but don't anymore\n",
    "#silva_ss['Genus'].str.lower().replace('uncultured', 'Not Classified', inplace=True)\n",
    "#df[“genus”].str.lower().replace(“uncultured”, “Not Classified”, inplace=True)\n",
    "#silva_ss.loc[:, 'Genus'] = silva_ss['Genus'].str.lower().replace('uncultured', 'Not Classified')\n",
    "#silva_ss['Genus'].str.lower().replace('uncultured', 'Not Classified', inplace=True)"
   ]
  },
  {
   "cell_type": "code",
   "execution_count": null,
   "metadata": {},
   "outputs": [],
   "source": [
    "#This removes several versions of same word\n",
    "#Start with the greengenes genera list \n",
    "# list with integer elements\n",
    "list = gg_list\n",
    "# number (n) to be removed\n",
    "n = 'Not Classified'\n",
    "\n",
    "# print original list \n",
    "print (\"Original list:\")\n",
    "print (list[0:50])\n",
    "\n",
    "# loop to traverse each element in list\n",
    "# and, remove elements \n",
    "# which are equals to n\n",
    "i=0 #loop counter\n",
    "length = len(list)  #list length \n",
    "while(i<length):\n",
    "\tif(list[i]==n):\n",
    "\t\tlist.remove (list[i])\n",
    "\t\t# as an element is removed\t\n",
    "\t\t# so decrease the length by 1\t\n",
    "\t\tlength = length -1  \n",
    "\t\t# run loop again to check element\t\t\t\t\t\t\t\n",
    "\t\t# at same index, when item removed \n",
    "\t\t# next item will shift to the left \n",
    "\t\tcontinue\n",
    "\ti = i+1\n",
    "\n",
    "# print list after removing given element\n",
    "print (\"list after removing elements:\")\n",
    "print (list)"
   ]
  },
  {
   "cell_type": "code",
   "execution_count": null,
   "metadata": {},
   "outputs": [],
   "source": [
    "#Finding matches of sublist in master list\n",
    "np.flatnonzero(np.core.defchararray.find(bar,foo)!=-1)"
   ]
  },
  {
   "cell_type": "code",
   "execution_count": null,
   "metadata": {},
   "outputs": [],
   "source": [
    "# list with integer elements\n",
    "list = silva_list\n",
    "# number (n) to be removed\n",
    "n = 'Not Classified'\n",
    "\n",
    "# print original list \n",
    "print (\"Original list:\")\n",
    "print (list[0:50])\n",
    "\n",
    "# loop to traverse each element in list\n",
    "# and, remove elements \n",
    "# which are equals to n\n",
    "i=0 #loop counter\n",
    "length = len(list)  #list length \n",
    "while(i<length):\n",
    "\tif(list[i]==n):\n",
    "\t\tlist.remove (list[i])\n",
    "\t\t# as an element is removed\t\n",
    "\t\t# so decrease the length by 1\t\n",
    "\t\tlength = length -1  \n",
    "\t\t# run loop again to check element\t\t\t\t\t\t\t\n",
    "\t\t# at same index, when item removed \n",
    "\t\t# next item will shift to the left \n",
    "\t\tcontinue\n",
    "\ti = i+1\n",
    "\n",
    "# print list after removing given element\n",
    "print (\"list after removing elements:\")\n",
    "print (list)"
   ]
  },
  {
   "cell_type": "code",
   "execution_count": null,
   "metadata": {},
   "outputs": [],
   "source": [
    "# 1.Create a function that operates on the rows of your dataframe and appends to lists\n",
    "#Initialize your lists \n",
    "gg_only = []\n",
    "silva_only = []\n",
    "homd_only = []\n",
    "gg_silva = []\n",
    "gg_homd = []\n",
    "homd_silva = []\n",
    "present_all = []\n",
    "\n",
    "\n",
    "#Start for loop\n",
    "for row in compare_df.itertuples(): \n",
    "        if (compare_df['greengenes'] == 1) & (compare_df['silva'] == 0) & (compare_df['homd'] == 0):\n",
    "            gg_only.append(1)     #greengenes only\n",
    "        elif (compare_df['greengenes'] == 0) & (compare_df['silva'] == 1) & (compare_df['homd'] == 0):\n",
    "            silva_only.append(1)     #silva only\n",
    "        elif (compare_df['greengenes'] == 0) & (compare_df['silva'] == 0) & (compare_df['homd'] == 1):\n",
    "            homd_only.append(1)     #homd only\n",
    "        elif (compare_df['greengenes'] == 1) & (compare_df['silva'] == 1) & (compare_df['homd'] == 0):\n",
    "            gg_silva.append(1)     #present in gg and silva, not homd      \n",
    "        elif (compare_df['greengenes'] == 1) & (compare_df['silva'] == 0) & (compare_df['homd'] == 1):\n",
    "            gg_homd.append(1)     #Present in gg and homd, not silva    \n",
    "        elif (compare_df['greengenes'] == 0) & (compare_df['silva'] == 1) & (compare_df['homd'] == 1):\n",
    "            homd_silva.append(1)     #Present in homd and silva, not gg\n",
    "        elif (compare_df['greengenes'] == 1) & (compare_df['silva'] == 1) & (compare_df['homd'] == 1):\n",
    "            present_all.append(1)      #Present in all   \n",
    "        else:\n",
    "            print('No conditions met')\n",
    "            "
   ]
  },
  {
   "cell_type": "code",
   "execution_count": null,
   "metadata": {},
   "outputs": [],
   "source": [
    "#Get the total number of genus by dataset\n",
    "genus_by_db = df_combined.groupby('Dataset')['Genus'].sum()\n",
    "#Create a bar plot for total genera by dataset\n",
    "genus_by_db.plot(kind='bar')\n",
    "plt.show()"
   ]
  },
  {
   "cell_type": "code",
   "execution_count": null,
   "metadata": {},
   "outputs": [],
   "source": [
    "#Get the total number of genus by dataset and phylum\n",
    "genus_by_db_phylum = df_combined.groupby(['Phylum','Dataset'])['Genus'].sum()\n",
    "#Create a bar plot \n",
    "genus_by_db_phylum.plot(kind='bar')"
   ]
  },
  {
   "cell_type": "code",
   "execution_count": null,
   "metadata": {},
   "outputs": [],
   "source": []
  },
  {
   "cell_type": "code",
   "execution_count": null,
   "metadata": {},
   "outputs": [],
   "source": []
  }
 ],
 "metadata": {
  "kernelspec": {
   "display_name": "Python 3",
   "language": "python",
   "name": "python3"
  },
  "language_info": {
   "codemirror_mode": {
    "name": "ipython",
    "version": 3
   },
   "file_extension": ".py",
   "mimetype": "text/x-python",
   "name": "python",
   "nbconvert_exporter": "python",
   "pygments_lexer": "ipython3",
   "version": "3.7.4"
  }
 },
 "nbformat": 4,
 "nbformat_minor": 2
}
