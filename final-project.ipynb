{
 "cells": [
  {
   "cell_type": "markdown",
   "metadata": {},
   "source": [
    "# Final Project Katherine Maki - BIOF 309"
   ]
  },
  {
   "cell_type": "markdown",
   "metadata": {},
   "source": [
    "## A Description of Unique and Shared Bacterial Features from Four Common Taxonomy Databases"
   ]
  },
  {
   "cell_type": "markdown",
   "metadata": {},
   "source": [
    "## Project Questions: How many bacterial features (at the genus level) are unique and overlapping across four major taxonomy databases? Are certain datasets more biased to include genera from a specific phylum?"
   ]
  },
  {
   "cell_type": "markdown",
   "metadata": {},
   "source": [
    "### What is a bacterial genus?\n",
    "\n",
    "Bacteria is classified taxonomically ranging from Phylum (high level) to species strain"
   ]
  },
  {
   "cell_type": "markdown",
   "metadata": {},
   "source": [
    "![taxonomy](img/Taxonomy_copy2.png)"
   ]
  },
  {
   "cell_type": "markdown",
   "metadata": {},
   "source": [
    "In microbiome analysis, 16S rRNA gene amplicon sequencing is a \"culture independent\" analysis technique used to classify bacteria based on hypervariable regions in the bacterial 16S rRNA gene. Bacteria is classified based on genetic sequences that are amplified from DNA extracted from a sample. For example, to noninvasively analyze the gut microbiome you can collect and extract DNA from fecal samples :)"
   ]
  },
  {
   "cell_type": "markdown",
   "metadata": {},
   "source": [
    "## Four Databases that will be analyzed\n",
    "#### Ribosomal Database Project\n",
    "![RDP](img/rdp.png)\n",
    "#### Greengenes\n",
    "![RDP](img/greengenes.png)\n",
    "#### Silva \n",
    "![RDP](img/silva.png)\n",
    "#### Human Oral Microbiome Database\n",
    "![RDP](img/homd.png)"
   ]
  },
  {
   "cell_type": "markdown",
   "metadata": {},
   "source": [
    "## Links to data\n",
    "[Human Oral Microbiome Database](http://www.homd.org/?name=Download&taxonly=1)\n",
    "[Silva Release 138](https://www.arb-silva.de/no_cache/download/archive/release_138/Exports/)\n",
    "[Greengenes 13_8](https://docs.qiime2.org/2020.2/data-resources/)\n",
    "[Ribosomal Database Project V16](https://mothur.org/wiki/rdp_reference_files/)"
   ]
  },
  {
   "cell_type": "markdown",
   "metadata": {},
   "source": [
    "## Data Import"
   ]
  },
  {
   "cell_type": "code",
   "execution_count": 186,
   "metadata": {},
   "outputs": [],
   "source": [
    "import pandas as pd\n",
    "import numpy as np"
   ]
  },
  {
   "cell_type": "markdown",
   "metadata": {},
   "source": [
    "## Since there are four datasets and they are all formatted differently, we will bring them in seperately and format them to extra characters are deleted, empty columns are changed to \"NaN\" and the genus data is subsetted"
   ]
  },
  {
   "cell_type": "markdown",
   "metadata": {},
   "source": [
    "### Greengenes is imported first"
   ]
  },
  {
   "cell_type": "code",
   "execution_count": 187,
   "metadata": {},
   "outputs": [],
   "source": [
    "#Import GreenGenes Dataset without header\n",
    "gg = pd.read_table('data_input/gg_99_otu_taxonomy.txt', header=None, names=['id', 'taxonomy'])"
   ]
  },
  {
   "cell_type": "code",
   "execution_count": 188,
   "metadata": {},
   "outputs": [],
   "source": [
    "#Split Single Taxonomy Column into Several Columns\n",
    "gg = gg.taxonomy.str.split(\";\",expand=True)\n",
    "gg.columns = ['Kingdom','Phylum','Class',\n",
    "                     'Order','Family','Genus', 'Species']"
   ]
  },
  {
   "cell_type": "code",
   "execution_count": 189,
   "metadata": {},
   "outputs": [],
   "source": [
    "#Get rid of the preceding type labels \n",
    "gg.Kingdom = gg.Kingdom.apply(lambda x: x.replace('k__',''))\n",
    "gg.Phylum = gg.Phylum.apply(lambda x: x.replace('p__',''))\n",
    "gg.Class = gg.Class.apply(lambda x: x.replace('c__',''))\n",
    "gg.Order = gg.Order.apply(lambda x: x.replace('o__',''))\n",
    "gg.Family = gg.Family.apply(lambda x: x.replace('f__',''))\n",
    "gg.Genus = gg.Genus.apply(lambda x: x.replace('g__',''))\n",
    "gg.Species = gg.Species.apply(lambda x: x.replace('s__',''))"
   ]
  },
  {
   "cell_type": "code",
   "execution_count": 190,
   "metadata": {},
   "outputs": [],
   "source": [
    "#Replace blank spaces with \"Not Classified\" so all databases match\n",
    "gg = gg.replace(r'^\\s*$', \"Not Classified\", regex=True)"
   ]
  },
  {
   "cell_type": "code",
   "execution_count": 191,
   "metadata": {},
   "outputs": [],
   "source": [
    "#Add column identifying the dataset\n",
    "gg['Dataset'] = 'Greengenes'"
   ]
  },
  {
   "cell_type": "code",
   "execution_count": 194,
   "metadata": {},
   "outputs": [
    {
     "data": {
      "text/html": [
       "<div>\n",
       "<style scoped>\n",
       "    .dataframe tbody tr th:only-of-type {\n",
       "        vertical-align: middle;\n",
       "    }\n",
       "\n",
       "    .dataframe tbody tr th {\n",
       "        vertical-align: top;\n",
       "    }\n",
       "\n",
       "    .dataframe thead th {\n",
       "        text-align: right;\n",
       "    }\n",
       "</style>\n",
       "<table border=\"1\" class=\"dataframe\">\n",
       "  <thead>\n",
       "    <tr style=\"text-align: right;\">\n",
       "      <th></th>\n",
       "      <th>Kingdom</th>\n",
       "      <th>Phylum</th>\n",
       "      <th>Class</th>\n",
       "      <th>Order</th>\n",
       "      <th>Family</th>\n",
       "      <th>Genus</th>\n",
       "      <th>Species</th>\n",
       "      <th>Dataset</th>\n",
       "    </tr>\n",
       "  </thead>\n",
       "  <tbody>\n",
       "    <tr>\n",
       "      <td>0</td>\n",
       "      <td>Bacteria</td>\n",
       "      <td>Cyanobacteria</td>\n",
       "      <td>Synechococcophycideae</td>\n",
       "      <td>Synechococcales</td>\n",
       "      <td>Synechococcaceae</td>\n",
       "      <td>Synechococcus</td>\n",
       "      <td>Not Classified</td>\n",
       "      <td>Greengenes</td>\n",
       "    </tr>\n",
       "    <tr>\n",
       "      <td>1</td>\n",
       "      <td>Bacteria</td>\n",
       "      <td>Proteobacteria</td>\n",
       "      <td>Alphaproteobacteria</td>\n",
       "      <td>Rickettsiales</td>\n",
       "      <td>Pelagibacteraceae</td>\n",
       "      <td>Not Classified</td>\n",
       "      <td>Not Classified</td>\n",
       "      <td>Greengenes</td>\n",
       "    </tr>\n",
       "    <tr>\n",
       "      <td>2</td>\n",
       "      <td>Bacteria</td>\n",
       "      <td>Actinobacteria</td>\n",
       "      <td>Actinobacteria</td>\n",
       "      <td>Actinomycetales</td>\n",
       "      <td>Mycobacteriaceae</td>\n",
       "      <td>Mycobacterium</td>\n",
       "      <td>Not Classified</td>\n",
       "      <td>Greengenes</td>\n",
       "    </tr>\n",
       "    <tr>\n",
       "      <td>3</td>\n",
       "      <td>Bacteria</td>\n",
       "      <td>Firmicutes</td>\n",
       "      <td>Bacilli</td>\n",
       "      <td>Bacillales</td>\n",
       "      <td>Staphylococcaceae</td>\n",
       "      <td>Staphylococcus</td>\n",
       "      <td>Not Classified</td>\n",
       "      <td>Greengenes</td>\n",
       "    </tr>\n",
       "    <tr>\n",
       "      <td>4</td>\n",
       "      <td>Bacteria</td>\n",
       "      <td>Firmicutes</td>\n",
       "      <td>Bacilli</td>\n",
       "      <td>Bacillales</td>\n",
       "      <td>Bacillaceae</td>\n",
       "      <td>Anoxybacillus</td>\n",
       "      <td>kestanbolensis</td>\n",
       "      <td>Greengenes</td>\n",
       "    </tr>\n",
       "  </tbody>\n",
       "</table>\n",
       "</div>"
      ],
      "text/plain": [
       "    Kingdom           Phylum                   Class             Order  \\\n",
       "0  Bacteria    Cyanobacteria   Synechococcophycideae   Synechococcales   \n",
       "1  Bacteria   Proteobacteria     Alphaproteobacteria     Rickettsiales   \n",
       "2  Bacteria   Actinobacteria          Actinobacteria   Actinomycetales   \n",
       "3  Bacteria       Firmicutes                 Bacilli        Bacillales   \n",
       "4  Bacteria       Firmicutes                 Bacilli        Bacillales   \n",
       "\n",
       "               Family            Genus          Species     Dataset  \n",
       "0    Synechococcaceae    Synechococcus   Not Classified  Greengenes  \n",
       "1   Pelagibacteraceae   Not Classified   Not Classified  Greengenes  \n",
       "2    Mycobacteriaceae    Mycobacterium   Not Classified  Greengenes  \n",
       "3   Staphylococcaceae   Staphylococcus   Not Classified  Greengenes  \n",
       "4         Bacillaceae    Anoxybacillus   kestanbolensis  Greengenes  "
      ]
     },
     "execution_count": 194,
     "metadata": {},
     "output_type": "execute_result"
    }
   ],
   "source": [
    "#View output\n",
    "gg.head()"
   ]
  },
  {
   "cell_type": "code",
   "execution_count": 195,
   "metadata": {},
   "outputs": [],
   "source": [
    "#Pull out Phylum, Genus and Dataset Variables\n",
    "gg_ss =  gg[['Phylum','Genus', 'Dataset']]"
   ]
  },
  {
   "cell_type": "code",
   "execution_count": 197,
   "metadata": {},
   "outputs": [
    {
     "data": {
      "text/html": [
       "<div>\n",
       "<style scoped>\n",
       "    .dataframe tbody tr th:only-of-type {\n",
       "        vertical-align: middle;\n",
       "    }\n",
       "\n",
       "    .dataframe tbody tr th {\n",
       "        vertical-align: top;\n",
       "    }\n",
       "\n",
       "    .dataframe thead th {\n",
       "        text-align: right;\n",
       "    }\n",
       "</style>\n",
       "<table border=\"1\" class=\"dataframe\">\n",
       "  <thead>\n",
       "    <tr style=\"text-align: right;\">\n",
       "      <th></th>\n",
       "      <th>Phylum</th>\n",
       "      <th>Genus</th>\n",
       "      <th>Dataset</th>\n",
       "    </tr>\n",
       "  </thead>\n",
       "  <tbody>\n",
       "    <tr>\n",
       "      <td>0</td>\n",
       "      <td>Cyanobacteria</td>\n",
       "      <td>Synechococcus</td>\n",
       "      <td>Greengenes</td>\n",
       "    </tr>\n",
       "    <tr>\n",
       "      <td>1</td>\n",
       "      <td>Proteobacteria</td>\n",
       "      <td>Not Classified</td>\n",
       "      <td>Greengenes</td>\n",
       "    </tr>\n",
       "    <tr>\n",
       "      <td>2</td>\n",
       "      <td>Actinobacteria</td>\n",
       "      <td>Mycobacterium</td>\n",
       "      <td>Greengenes</td>\n",
       "    </tr>\n",
       "    <tr>\n",
       "      <td>3</td>\n",
       "      <td>Firmicutes</td>\n",
       "      <td>Staphylococcus</td>\n",
       "      <td>Greengenes</td>\n",
       "    </tr>\n",
       "    <tr>\n",
       "      <td>4</td>\n",
       "      <td>Firmicutes</td>\n",
       "      <td>Anoxybacillus</td>\n",
       "      <td>Greengenes</td>\n",
       "    </tr>\n",
       "  </tbody>\n",
       "</table>\n",
       "</div>"
      ],
      "text/plain": [
       "            Phylum            Genus     Dataset\n",
       "0    Cyanobacteria    Synechococcus  Greengenes\n",
       "1   Proteobacteria   Not Classified  Greengenes\n",
       "2   Actinobacteria    Mycobacterium  Greengenes\n",
       "3       Firmicutes   Staphylococcus  Greengenes\n",
       "4       Firmicutes    Anoxybacillus  Greengenes"
      ]
     },
     "execution_count": 197,
     "metadata": {},
     "output_type": "execute_result"
    }
   ],
   "source": [
    "gg_ss.head()"
   ]
  },
  {
   "cell_type": "markdown",
   "metadata": {},
   "source": [
    "### Next Silva is imported"
   ]
  },
  {
   "cell_type": "code",
   "execution_count": 198,
   "metadata": {},
   "outputs": [],
   "source": [
    "#Import Silva Dataset without header\n",
    "silva = pd.read_table('data_input/silva_taxonomy_7_levels.txt', header=None, names=['id', 'taxonomy'])"
   ]
  },
  {
   "cell_type": "code",
   "execution_count": 199,
   "metadata": {},
   "outputs": [],
   "source": [
    "silva = silva.taxonomy.str.split(\";\",expand=True)\n",
    "silva.columns = ['Kingdom','Phylum','Class',\n",
    "                     'Order','Family','Genus', 'Species']"
   ]
  },
  {
   "cell_type": "code",
   "execution_count": 200,
   "metadata": {},
   "outputs": [],
   "source": [
    "#Get rid of the preceding type labels \n",
    "silva.Kingdom = silva.Kingdom.apply(lambda x: x.replace('D_0__',''))\n",
    "silva.Phylum = silva.Phylum.apply(lambda x: x.replace('D_1__',''))\n",
    "silva.Class = silva.Class.apply(lambda x: x.replace('D_2__',''))\n",
    "silva.Order = silva.Order.apply(lambda x: x.replace('D_3__',''))\n",
    "silva.Family = silva.Family.apply(lambda x: x.replace('D_4__',''))\n",
    "silva.Genus = silva.Genus.apply(lambda x: x.replace('D_5__',''))\n",
    "silva.Species = silva.Species.apply(lambda x: x.replace('D_6__',''))"
   ]
  },
  {
   "cell_type": "code",
   "execution_count": 201,
   "metadata": {},
   "outputs": [],
   "source": [
    "#Add column identifying the dataset\n",
    "silva['Dataset'] = 'Silva'"
   ]
  },
  {
   "cell_type": "code",
   "execution_count": 202,
   "metadata": {},
   "outputs": [],
   "source": [
    "#Only keep Bacteria in Silva Dataset as it also contains Archaea\n",
    "silva_bac = silva[silva['Kingdom'] == 'Bacteria']"
   ]
  },
  {
   "cell_type": "code",
   "execution_count": 203,
   "metadata": {},
   "outputs": [],
   "source": [
    "#Pull out Phylum, Genus and Dataset Variables\n",
    "silva_ss =  silva_bac[['Phylum', 'Genus', 'Dataset']]"
   ]
  },
  {
   "cell_type": "code",
   "execution_count": 220,
   "metadata": {},
   "outputs": [
    {
     "data": {
      "text/html": [
       "<div>\n",
       "<style scoped>\n",
       "    .dataframe tbody tr th:only-of-type {\n",
       "        vertical-align: middle;\n",
       "    }\n",
       "\n",
       "    .dataframe tbody tr th {\n",
       "        vertical-align: top;\n",
       "    }\n",
       "\n",
       "    .dataframe thead th {\n",
       "        text-align: right;\n",
       "    }\n",
       "</style>\n",
       "<table border=\"1\" class=\"dataframe\">\n",
       "  <thead>\n",
       "    <tr style=\"text-align: right;\">\n",
       "      <th></th>\n",
       "      <th>Phylum</th>\n",
       "      <th>Genus</th>\n",
       "      <th>Dataset</th>\n",
       "    </tr>\n",
       "  </thead>\n",
       "  <tbody>\n",
       "    <tr>\n",
       "      <td>0</td>\n",
       "      <td>Proteobacteria</td>\n",
       "      <td>Klebsiella</td>\n",
       "      <td>Silva</td>\n",
       "    </tr>\n",
       "    <tr>\n",
       "      <td>1</td>\n",
       "      <td>Patescibacteria</td>\n",
       "      <td>Not Classified</td>\n",
       "      <td>Silva</td>\n",
       "    </tr>\n",
       "    <tr>\n",
       "      <td>2</td>\n",
       "      <td>Firmicutes</td>\n",
       "      <td>Tyzzerella 3</td>\n",
       "      <td>Silva</td>\n",
       "    </tr>\n",
       "    <tr>\n",
       "      <td>3</td>\n",
       "      <td>Proteobacteria</td>\n",
       "      <td>Not Classified</td>\n",
       "      <td>Silva</td>\n",
       "    </tr>\n",
       "    <tr>\n",
       "      <td>4</td>\n",
       "      <td>Proteobacteria</td>\n",
       "      <td>Pseudoalteromonas</td>\n",
       "      <td>Silva</td>\n",
       "    </tr>\n",
       "  </tbody>\n",
       "</table>\n",
       "</div>"
      ],
      "text/plain": [
       "            Phylum              Genus Dataset\n",
       "0   Proteobacteria         Klebsiella   Silva\n",
       "1  Patescibacteria     Not Classified   Silva\n",
       "2       Firmicutes       Tyzzerella 3   Silva\n",
       "3   Proteobacteria     Not Classified   Silva\n",
       "4   Proteobacteria  Pseudoalteromonas   Silva"
      ]
     },
     "execution_count": 220,
     "metadata": {},
     "output_type": "execute_result"
    }
   ],
   "source": [
    "silva_ss.head()"
   ]
  },
  {
   "cell_type": "code",
   "execution_count": null,
   "metadata": {},
   "outputs": [],
   "source": [
    "#Need to Change the Different Uncultured Bacteria Data in Silva to \"Not Classified\" to Match with GreenGenes\n",
    "#Since there are multiple ways Silva writes uncultured (i.e. uncultured bacterium, uncultured organism) need \n",
    "    #search for uncultured and replace"
   ]
  },
  {
   "cell_type": "code",
   "execution_count": 221,
   "metadata": {},
   "outputs": [],
   "source": [
    "#These versions didn't work \n",
    "#silva_ss.loc[silva_genus['Genus'].str.contains('uncultured')] = 'Not Classified'\n",
    "#silva_ss['Genus'].str.lower().str.contains(\"uncultured\") = \"Not Classified\"\n",
    "#silva_ss[\"Genus\"].str.contains(\"uncultured\", case=False regex=False) = \"Not Classified\"\n",
    "#silva_ss[\"Genus\"].str.contains(\"uncultured\", case=False regex=False) = \"Not Classified\""
   ]
  },
  {
   "cell_type": "code",
   "execution_count": 233,
   "metadata": {},
   "outputs": [],
   "source": [
    "#This works but gives me a warning message\n",
    "#silva_ss.loc[silva_ss['Genus'].str.contains('uncultured'), 'Genus'] = 'Not Classified'\n",
    "#This is Max's version (works without warning):\n",
    "#silva_ss['Genus'].str.lower().replace('uncultured', 'Not Classified', inplace=True)\n",
    "#Another one that Max suggested that he likes better\n",
    "silva_ss.loc[:, “genus”] = silva_ss[“genus”].str.lower().replace(“uncultured”, “Not Classified”)"
   ]
  },
  {
   "cell_type": "code",
   "execution_count": 234,
   "metadata": {},
   "outputs": [
    {
     "data": {
      "text/html": [
       "<div>\n",
       "<style scoped>\n",
       "    .dataframe tbody tr th:only-of-type {\n",
       "        vertical-align: middle;\n",
       "    }\n",
       "\n",
       "    .dataframe tbody tr th {\n",
       "        vertical-align: top;\n",
       "    }\n",
       "\n",
       "    .dataframe thead th {\n",
       "        text-align: right;\n",
       "    }\n",
       "</style>\n",
       "<table border=\"1\" class=\"dataframe\">\n",
       "  <thead>\n",
       "    <tr style=\"text-align: right;\">\n",
       "      <th></th>\n",
       "      <th>Phylum</th>\n",
       "      <th>Genus</th>\n",
       "      <th>Dataset</th>\n",
       "    </tr>\n",
       "  </thead>\n",
       "  <tbody>\n",
       "    <tr>\n",
       "      <td>0</td>\n",
       "      <td>Proteobacteria</td>\n",
       "      <td>Klebsiella</td>\n",
       "      <td>Silva</td>\n",
       "    </tr>\n",
       "    <tr>\n",
       "      <td>1</td>\n",
       "      <td>Patescibacteria</td>\n",
       "      <td>Not Classified</td>\n",
       "      <td>Silva</td>\n",
       "    </tr>\n",
       "    <tr>\n",
       "      <td>2</td>\n",
       "      <td>Firmicutes</td>\n",
       "      <td>Tyzzerella 3</td>\n",
       "      <td>Silva</td>\n",
       "    </tr>\n",
       "    <tr>\n",
       "      <td>3</td>\n",
       "      <td>Proteobacteria</td>\n",
       "      <td>Not Classified</td>\n",
       "      <td>Silva</td>\n",
       "    </tr>\n",
       "    <tr>\n",
       "      <td>4</td>\n",
       "      <td>Proteobacteria</td>\n",
       "      <td>Pseudoalteromonas</td>\n",
       "      <td>Silva</td>\n",
       "    </tr>\n",
       "  </tbody>\n",
       "</table>\n",
       "</div>"
      ],
      "text/plain": [
       "            Phylum              Genus Dataset\n",
       "0   Proteobacteria         Klebsiella   Silva\n",
       "1  Patescibacteria     Not Classified   Silva\n",
       "2       Firmicutes       Tyzzerella 3   Silva\n",
       "3   Proteobacteria     Not Classified   Silva\n",
       "4   Proteobacteria  Pseudoalteromonas   Silva"
      ]
     },
     "execution_count": 234,
     "metadata": {},
     "output_type": "execute_result"
    }
   ],
   "source": [
    "silva_ss.head()"
   ]
  },
  {
   "cell_type": "markdown",
   "metadata": {},
   "source": [
    "### Next Ribosomal Database Project is Imported"
   ]
  },
  {
   "cell_type": "code",
   "execution_count": 258,
   "metadata": {},
   "outputs": [],
   "source": [
    "#Import RDP Dataset without header\n",
    "rdp = pd.read_table('data_input/rdp_16s_v16_taxonomy.txt', sep=\":|;|,\", header=None, engine=\"python\")\n",
    "rdp = rdp.drop(columns= [0, 1, 3, 5, 7, 9, 11, 13])\n",
    "rdp.columns = ['Kingdom','Phylum','Class',\n",
    "                     'Order','Family','Genus']"
   ]
  },
  {
   "cell_type": "code",
   "execution_count": 280,
   "metadata": {},
   "outputs": [],
   "source": [
    "#Get rid of the quotations around certain features\n",
    "#For Some reason this won't work for Order, Family, Genus\n",
    "    #Error--> AttributeError: 'NoneType' object has no attribute 'replace'\n",
    "rdp.Kingdom = rdp.Kingdom.apply(lambda x: x.replace('\"',''))\n",
    "rdp.Phylum = rdp.Phylum.apply(lambda x: x.replace('\"',''))\n",
    "rdp.Class = rdp.Class.apply(lambda x: x.replace('\"',''))\n",
    "#rdp.Order = rdp.Order.apply(lambda x: x.replace('\"',''))\n",
    "#rdp.Family = rdp.Family.apply(lambda x: x.replace('\"',''))\n",
    "#rdp.Genus = rdp.Genus.apply(lambda x: x.replace('\"',''))\n",
    "#rdp.Genus = rdp.Genus.apply(lambda x: x.replace('_',''))"
   ]
  },
  {
   "cell_type": "code",
   "execution_count": null,
   "metadata": {},
   "outputs": [],
   "source": [
    "rdp.columns = ['Kingdom','Phylum','Class',\n",
    "                     'Order','Family','Genus']"
   ]
  },
  {
   "cell_type": "code",
   "execution_count": 281,
   "metadata": {},
   "outputs": [],
   "source": [
    "#Add column identifying the dataset\n",
    "rdp['Dataset'] = 'RDP'"
   ]
  },
  {
   "cell_type": "code",
   "execution_count": 282,
   "metadata": {},
   "outputs": [],
   "source": [
    "#Pull out Phylum, Genus and Dataset Variables\n",
    "rdp_ss =  rdp[['Phylum', 'Genus', 'Dataset']]"
   ]
  },
  {
   "cell_type": "code",
   "execution_count": 284,
   "metadata": {},
   "outputs": [
    {
     "data": {
      "text/html": [
       "<div>\n",
       "<style scoped>\n",
       "    .dataframe tbody tr th:only-of-type {\n",
       "        vertical-align: middle;\n",
       "    }\n",
       "\n",
       "    .dataframe tbody tr th {\n",
       "        vertical-align: top;\n",
       "    }\n",
       "\n",
       "    .dataframe thead th {\n",
       "        text-align: right;\n",
       "    }\n",
       "</style>\n",
       "<table border=\"1\" class=\"dataframe\">\n",
       "  <thead>\n",
       "    <tr style=\"text-align: right;\">\n",
       "      <th></th>\n",
       "      <th>Phylum</th>\n",
       "      <th>Genus</th>\n",
       "      <th>Dataset</th>\n",
       "    </tr>\n",
       "  </thead>\n",
       "  <tbody>\n",
       "    <tr>\n",
       "      <td>0</td>\n",
       "      <td>Actinobacteria</td>\n",
       "      <td>Mycobacterium</td>\n",
       "      <td>RDP</td>\n",
       "    </tr>\n",
       "    <tr>\n",
       "      <td>1</td>\n",
       "      <td>Proteobacteria</td>\n",
       "      <td>Vibrio</td>\n",
       "      <td>RDP</td>\n",
       "    </tr>\n",
       "    <tr>\n",
       "      <td>2</td>\n",
       "      <td>Actinobacteria</td>\n",
       "      <td>Mycobacterium</td>\n",
       "      <td>RDP</td>\n",
       "    </tr>\n",
       "    <tr>\n",
       "      <td>3</td>\n",
       "      <td>Proteobacteria</td>\n",
       "      <td>Acetobacter</td>\n",
       "      <td>RDP</td>\n",
       "    </tr>\n",
       "    <tr>\n",
       "      <td>4</td>\n",
       "      <td>Proteobacteria</td>\n",
       "      <td>Aquincola</td>\n",
       "      <td>RDP</td>\n",
       "    </tr>\n",
       "  </tbody>\n",
       "</table>\n",
       "</div>"
      ],
      "text/plain": [
       "           Phylum          Genus Dataset\n",
       "0  Actinobacteria  Mycobacterium     RDP\n",
       "1  Proteobacteria         Vibrio     RDP\n",
       "2  Actinobacteria  Mycobacterium     RDP\n",
       "3  Proteobacteria    Acetobacter     RDP\n",
       "4  Proteobacteria      Aquincola     RDP"
      ]
     },
     "execution_count": 284,
     "metadata": {},
     "output_type": "execute_result"
    }
   ],
   "source": [
    "rdp_ss.head()"
   ]
  },
  {
   "cell_type": "code",
   "execution_count": null,
   "metadata": {},
   "outputs": [],
   "source": []
  },
  {
   "cell_type": "code",
   "execution_count": null,
   "metadata": {},
   "outputs": [],
   "source": [
    "#Prob want to check RDP to make sure no Archea "
   ]
  },
  {
   "cell_type": "code",
   "execution_count": null,
   "metadata": {},
   "outputs": [],
   "source": [
    "silva.info()"
   ]
  },
  {
   "cell_type": "code",
   "execution_count": 99,
   "metadata": {},
   "outputs": [
    {
     "data": {
      "text/html": [
       "<div>\n",
       "<style scoped>\n",
       "    .dataframe tbody tr th:only-of-type {\n",
       "        vertical-align: middle;\n",
       "    }\n",
       "\n",
       "    .dataframe tbody tr th {\n",
       "        vertical-align: top;\n",
       "    }\n",
       "\n",
       "    .dataframe thead th {\n",
       "        text-align: right;\n",
       "    }\n",
       "</style>\n",
       "<table border=\"1\" class=\"dataframe\">\n",
       "  <thead>\n",
       "    <tr style=\"text-align: right;\">\n",
       "      <th></th>\n",
       "      <th>Genus</th>\n",
       "      <th>Dataset</th>\n",
       "    </tr>\n",
       "  </thead>\n",
       "  <tbody>\n",
       "    <tr>\n",
       "      <td>count</td>\n",
       "      <td>93463</td>\n",
       "      <td>203452</td>\n",
       "    </tr>\n",
       "    <tr>\n",
       "      <td>unique</td>\n",
       "      <td>2062</td>\n",
       "      <td>1</td>\n",
       "    </tr>\n",
       "    <tr>\n",
       "      <td>top</td>\n",
       "      <td>Bacteroides</td>\n",
       "      <td>Greengenes</td>\n",
       "    </tr>\n",
       "    <tr>\n",
       "      <td>freq</td>\n",
       "      <td>2747</td>\n",
       "      <td>203452</td>\n",
       "    </tr>\n",
       "  </tbody>\n",
       "</table>\n",
       "</div>"
      ],
      "text/plain": [
       "               Genus     Dataset\n",
       "count          93463      203452\n",
       "unique          2062           1\n",
       "top      Bacteroides  Greengenes\n",
       "freq            2747      203452"
      ]
     },
     "execution_count": 99,
     "metadata": {},
     "output_type": "execute_result"
    }
   ],
   "source": [
    "gg_ss.describe()"
   ]
  },
  {
   "cell_type": "code",
   "execution_count": null,
   "metadata": {},
   "outputs": [],
   "source": [
    ".shape"
   ]
  },
  {
   "cell_type": "code",
   "execution_count": null,
   "metadata": {},
   "outputs": [],
   "source": [
    "Np.unique"
   ]
  },
  {
   "cell_type": "code",
   "execution_count": null,
   "metadata": {},
   "outputs": [],
   "source": [
    "#Dropping duplicate names (one dataset)\n",
    "vet_visits.drop_duplicates(subset=\"Genus\")\n",
    "#Dropping duplicate names (combined datasets)\n",
    "unique_values= vet_visits.drop_duplicates(subset= [\"Genus\", \"Dataset\"])"
   ]
  },
  {
   "cell_type": "markdown",
   "metadata": {},
   "source": [
    "Maybe I should keep phylum, because then I can count total unique genera and unique genera, straififed by per phylum"
   ]
  },
  {
   "cell_type": "code",
   "execution_count": null,
   "metadata": {},
   "outputs": [],
   "source": [
    "#Unique genera by phylum sorted or unsorted\n",
    "unique_values[[\"Phylum\", \"Dataset\"]].value_counts()\n",
    "unique_values[[\"Phylum\", \"Dataset\"]].value_counts(sort=True)"
   ]
  },
  {
   "cell_type": "code",
   "execution_count": null,
   "metadata": {},
   "outputs": [],
   "source": [
    "# Get the proportion of departments of each number and sort\n",
    "dept_props_sorted = departments[\"department_num\"].value_counts(sort=True, ascending=False, normalize=True)"
   ]
  },
  {
   "cell_type": "code",
   "execution_count": null,
   "metadata": {},
   "outputs": [],
   "source": []
  },
  {
   "cell_type": "code",
   "execution_count": null,
   "metadata": {},
   "outputs": [],
   "source": []
  },
  {
   "cell_type": "code",
   "execution_count": null,
   "metadata": {},
   "outputs": [],
   "source": []
  },
  {
   "cell_type": "markdown",
   "metadata": {},
   "source": [
    "## 3) Import your data\n",
    "In the space below, import your data.\n",
    "If your data span multiple files, read them all in.\n",
    "If applicable, merge or append them as needed."
   ]
  },
  {
   "cell_type": "code",
   "execution_count": null,
   "metadata": {},
   "outputs": [],
   "source": []
  },
  {
   "cell_type": "code",
   "execution_count": null,
   "metadata": {},
   "outputs": [],
   "source": []
  },
  {
   "cell_type": "markdown",
   "metadata": {},
   "source": [
    "## 4) Show me the head of your data."
   ]
  },
  {
   "cell_type": "code",
   "execution_count": null,
   "metadata": {},
   "outputs": [],
   "source": []
  },
  {
   "cell_type": "markdown",
   "metadata": {},
   "source": [
    "## 5) Show me the shape of your data"
   ]
  },
  {
   "cell_type": "code",
   "execution_count": null,
   "metadata": {},
   "outputs": [],
   "source": []
  },
  {
   "cell_type": "markdown",
   "metadata": {},
   "source": [
    "## 6) Show me the proportion of missing observations for each column of your data"
   ]
  },
  {
   "cell_type": "code",
   "execution_count": null,
   "metadata": {},
   "outputs": [],
   "source": []
  },
  {
   "cell_type": "code",
   "execution_count": null,
   "metadata": {},
   "outputs": [],
   "source": []
  },
  {
   "cell_type": "code",
   "execution_count": 124,
   "metadata": {},
   "outputs": [
    {
     "ename": "NameError",
     "evalue": "name 'silva_genus' is not defined",
     "output_type": "error",
     "traceback": [
      "\u001b[0;31m---------------------------------------------------------------------------\u001b[0m",
      "\u001b[0;31mNameError\u001b[0m                                 Traceback (most recent call last)",
      "\u001b[0;32m<ipython-input-124-80743adad2f5>\u001b[0m in \u001b[0;36m<module>\u001b[0;34m\u001b[0m\n\u001b[1;32m      3\u001b[0m \u001b[0;31m#Filter out not classified at genus level (i.e. \"uncultured bacterium\")\u001b[0m\u001b[0;34m\u001b[0m\u001b[0;34m\u001b[0m\u001b[0;34m\u001b[0m\u001b[0m\n\u001b[1;32m      4\u001b[0m \u001b[0;31m#Need to find the reverse of this\u001b[0m\u001b[0;34m\u001b[0m\u001b[0;34m\u001b[0m\u001b[0;34m\u001b[0m\u001b[0m\n\u001b[0;32m----> 5\u001b[0;31m \u001b[0mis_not_uncultured\u001b[0m \u001b[0;34m=\u001b[0m \u001b[0msilva_genus\u001b[0m\u001b[0;34m[\u001b[0m\u001b[0;34m\"Genus\"\u001b[0m\u001b[0;34m]\u001b[0m\u001b[0;34m.\u001b[0m\u001b[0misin\u001b[0m\u001b[0;34m(\u001b[0m\u001b[0;34m[\u001b[0m\u001b[0;34m]\u001b[0m\u001b[0;34m)\u001b[0m\u001b[0;34m\u001b[0m\u001b[0;34m\u001b[0m\u001b[0m\n\u001b[0m",
      "\u001b[0;31mNameError\u001b[0m: name 'silva_genus' is not defined"
     ]
    }
   ],
   "source": [
    "#Filter out Archea and Eukaryotic Data\n",
    "\n",
    "#Filter out not classified at genus level (i.e. \"uncultured bacterium\")\n",
    "#Need to find the reverse of this\n",
    "#is_not_uncultured = silva_genus[\"Genus\"].isin([\"uncultured bacterium\", \"uncultured organism\", \"uncultured\"])\n",
    "#df[\"uni_names\"].str.lower().str.contains(\"berkeley\") = \"University of California, Berkeley\""
   ]
  },
  {
   "cell_type": "markdown",
   "metadata": {},
   "source": [
    "## 7) Give me a problem statement.\n",
    "Below, write a problem statement. Keep in mind that your task is to tease out relationships in your data and eventually build a predictive model. Your problem statement can be vague, but you should have a goal in mind. Your problem statement should be between one sentence and one paragraph."
   ]
  },
  {
   "cell_type": "markdown",
   "metadata": {},
   "source": [
    "## 8) What is your _y_-variable?\n",
    "For final project, you will need to perform a statistical model. This means you will have to accurately predict some y-variable for some combination of x-variables. From your problem statement in part 7, what is that y-variable?"
   ]
  }
 ],
 "metadata": {
  "kernelspec": {
   "display_name": "Python 3",
   "language": "python",
   "name": "python3"
  },
  "language_info": {
   "codemirror_mode": {
    "name": "ipython",
    "version": 3
   },
   "file_extension": ".py",
   "mimetype": "text/x-python",
   "name": "python",
   "nbconvert_exporter": "python",
   "pygments_lexer": "ipython3",
   "version": "3.7.4"
  }
 },
 "nbformat": 4,
 "nbformat_minor": 4
}
